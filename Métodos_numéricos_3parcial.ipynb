{
  "nbformat": 4,
  "nbformat_minor": 0,
  "metadata": {
    "colab": {
      "provenance": [],
      "authorship_tag": "ABX9TyONCZm0Elvppp3v2Uk8zhFs",
      "include_colab_link": true
    },
    "kernelspec": {
      "name": "python3",
      "display_name": "Python 3"
    },
    "language_info": {
      "name": "python"
    }
  },
  "cells": [
    {
      "cell_type": "markdown",
      "metadata": {
        "id": "view-in-github",
        "colab_type": "text"
      },
      "source": [
        "<a href=\"https://colab.research.google.com/github/jlopez00001/M-todos-num-ricos/blob/main/M%C3%A9todos_num%C3%A9ricos_3parcial.ipynb\" target=\"_parent\"><img src=\"https://colab.research.google.com/assets/colab-badge.svg\" alt=\"Open In Colab\"/></a>"
      ]
    },
    {
      "cell_type": "markdown",
      "source": [
        "INTEGRACIÓN NUMERICA (FORMULAS NEWTON-COTES )"
      ],
      "metadata": {
        "id": "PWfJVAPjIv78"
      }
    },
    {
      "cell_type": "code",
      "execution_count": 1,
      "metadata": {
        "colab": {
          "base_uri": "https://localhost:8080/"
        },
        "id": "-xzW9mrhIW5J",
        "outputId": "082271ec-43c1-4c84-f17e-8717f40577a7"
      },
      "outputs": [
        {
          "output_type": "stream",
          "name": "stdout",
          "text": [
            "CERRADAS:\n",
            "Trapezoidal: 0.277681342960815\n",
            "Simpson 1/3: 0.292933937061992\n",
            "Simpson 3/8: 0.292912001466899\n",
            "Newton-Cotes cerrada n=4: 0.292894481235902\n",
            "\n",
            "ABIERTAS:\n",
            "Abierta n=0: 0.300560234112581\n",
            "Abierta n=1: 0.297988887635593\n",
            "Abierta n=2: 0.292859957388073\n",
            "Abierta n=3: 0.292870526478417\n"
          ]
        }
      ],
      "source": [
        "import sympy as sp  # importamos sympy\n",
        "\n",
        "\n",
        "x = sp.Symbol('x') # estamos definiendo la variable simbolica x\n",
        "\n",
        "f = sp.sin(x)  # definimo la función a integrar\n",
        "\n",
        "\n",
        "def regla_trapezoidal(f, a, b): # Trapezoidal (n=1)\n",
        "    h = b - a\n",
        "    return (h / 2) * (f.subs(x, a) + f.subs(x, b))\n",
        "\n",
        "\n",
        "def regla_simpson(f, a, b): #  formula de Simpson 1/3 (n=2)\n",
        "    h = (b - a) / 2\n",
        "    return (h / 3) * (f.subs(x, a) + 4*f.subs(x, a + h) + f.subs(x, b))\n",
        "\n",
        "\n",
        "def regla_tres_octavos(f, a, b): # Simpson 3/8 (n=3)\n",
        "    h = (b - a) / 3\n",
        "    return (3*h / 8) * (f.subs(x, a) + 3*f.subs(x, a + h) + 3*f.subs(x, a + 2*h) + f.subs(x, b))\n",
        "\n",
        "\n",
        "def newton_cotes_cerrada_n4(f, a, b): # Newton-Cotes cerrada n=4\n",
        "    h = (b - a) / 4\n",
        "    puntos = [a + i*h for i in range(5)]\n",
        "    coef = [7, 32, 12, 32, 7]\n",
        "    suma = sum(c * f.subs(x, xi) for c, xi in zip(coef, puntos))\n",
        "    return (2*h / 45) * suma\n",
        "\n",
        "# Newton-Cotes abiertas\n",
        "\n",
        "def newton_cotes_abierta_n0(f, a, b):\n",
        "    h = (b - a) / 2\n",
        "    return (b - a) * f.subs(x, a + h)\n",
        "\n",
        "def newton_cotes_abierta_n1(f, a, b):\n",
        "    h = (b - a) / 3\n",
        "    x1 = a + h\n",
        "    x2 = a + 2*h\n",
        "    return (3*h / 2) * (f.subs(x, x1) + f.subs(x, x2))\n",
        "\n",
        "def newton_cotes_abierta_n2(f, a, b):\n",
        "    h = (b - a) / 4\n",
        "    puntos = [a + h, a + 2*h, a + 3*h]\n",
        "    coef = [2, -1, 2]\n",
        "    return (4*h / 3) * sum(c*f.subs(x, xi) for c, xi in zip(coef, puntos))\n",
        "\n",
        "def newton_cotes_abierta_n3(f, a, b):\n",
        "    h = (b - a) / 5\n",
        "    puntos = [a + i*h for i in range(1, 5)]\n",
        "    coef = [11, 1, 1, 11]\n",
        "    return (5*h / 24) * sum(c*f.subs(x, xi) for c, xi in zip(coef, puntos))\n",
        "\n",
        "# Intervalo de integración\n",
        "a = 0\n",
        "b = 3.1416/4\n",
        "\n",
        "# Mostrar resultados (evalf convierte el resultado a decimal)\n",
        "print(\"CERRADAS:\")\n",
        "print(\"Trapezoidal:\", regla_trapezoidal(f, a, b).evalf())\n",
        "print(\"Simpson 1/3:\", regla_simpson(f, a, b).evalf())\n",
        "print(\"Simpson 3/8:\", regla_tres_octavos(f, a, b).evalf())\n",
        "print(\"Newton-Cotes cerrada n=4:\", newton_cotes_cerrada_n4(f, a, b).evalf())\n",
        "\n",
        "print(\"\\nABIERTAS:\")\n",
        "print(\"Abierta n=0:\", newton_cotes_abierta_n0(f, a, b).evalf())\n",
        "print(\"Abierta n=1:\", newton_cotes_abierta_n1(f, a, b).evalf())\n",
        "print(\"Abierta n=2:\", newton_cotes_abierta_n2(f, a, b).evalf())\n",
        "print(\"Abierta n=3:\", newton_cotes_abierta_n3(f, a, b).evalf())"
      ]
    },
    {
      "cell_type": "markdown",
      "source": [
        "REGLA COMPUESTA DE SIMPSON"
      ],
      "metadata": {
        "id": "MYtO9LKQLpxz"
      }
    },
    {
      "cell_type": "code",
      "source": [
        "import numpy as np\n",
        "import matplotlib.pyplot as plt\n",
        "\n",
        "\n",
        "# Definición de la función a integrar\n",
        "def f(x):\n",
        "    return np.exp(x)\n",
        "\n",
        "# Regla de Simpson compuesta\n",
        "def simpson_compuesta(f, a, b, n):# recibe como parametros la función f un intervalo y n entero par\n",
        "    if n % 2 != 0:                 # verifica que n sea par\n",
        "        raise ValueError(\"n debe ser par\")\n",
        "    h = (b - a) / n                                #divición del intervalo\n",
        "    x = np.linspace(a, b, n + 1)\n",
        "    fx = f(x)\n",
        "    S = fx[0] + fx[-1] + 4 * sum(fx[1:-1:2]) + 2 * sum(fx[2:-2:2])\n",
        "    return (h / 3) * S\n",
        "\n",
        "# Parámetros del ejemplo\n",
        "a = 0\n",
        "b = 4\n",
        "n = 2# Número de subintervalos (par)\n",
        "\n",
        "# Aproximación y valor exacto\n",
        "aprox = simpson_compuesta(f, a, b, n)\n",
        "exacto = np.exp(b) - np.exp(a)\n",
        "error = abs(exacto - aprox)\n",
        "\n",
        "# Mostrar resultados\n",
        "print(f\"Aproximación con n={n}: {aprox}\")\n",
        "print(f\"Valor exacto (exp(2)): {exacto}\")\n",
        "print(f\"Error absoluto: {error}\")\n",
        "\n",
        "# Gráfica\n",
        "x_vals = np.linspace(a, b, 1000)\n",
        "y_vals = f(x_vals)\n",
        "\n",
        "# Puntos usados en la regla de Simpson\n",
        "x_simpson = np.linspace(a, b, n + 1)\n",
        "y_simpson = f(x_simpson)\n",
        "\n",
        "plt.figure(figsize=(8, 5))\n",
        "plt.plot(x_vals, y_vals, label=\"f(x) = e*x\", color='blue')\n",
        "plt.scatter(x_simpson, y_simpson, color='red', label='Puntos de evaluación')\n",
        "plt.title(\"Regla Compuesta de Simpson\")\n",
        "plt.xlabel(\"x\")\n",
        "plt.ylabel(\"f(x)\")\n",
        "plt.legend()\n",
        "plt.grid(True)\n",
        "plt.show()"
      ],
      "metadata": {
        "colab": {
          "base_uri": "https://localhost:8080/",
          "height": 541
        },
        "id": "tFUR1TrbLvfr",
        "outputId": "6f2763d5-09e3-4801-a044-95217d0b7431"
      },
      "execution_count": 2,
      "outputs": [
        {
          "output_type": "stream",
          "name": "stdout",
          "text": [
            "Aproximación con n=2: 56.76958295257789\n",
            "Valor exacto (exp(2)): 53.598150033144236\n",
            "Error absoluto: 3.1714329194336557\n"
          ]
        },
        {
          "output_type": "display_data",
          "data": {
            "text/plain": [
              "<Figure size 800x500 with 1 Axes>"
            ],
            "image/png": "[encoded data removed]"
          },
          "metadata": {}
        }
      ]
    }
  ]
}