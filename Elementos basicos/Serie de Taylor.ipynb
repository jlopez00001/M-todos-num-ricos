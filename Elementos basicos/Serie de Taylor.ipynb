{
  "cells": [
    {
      "cell_type": "markdown",
      "source": [
        "<font color=\"grenn\"> Grafica de la serie de Taylor con sympy </font>"
      ],
      "metadata": {
        "id": "qL8jxGqLYDRY"
      },
      "id": "qL8jxGqLYDRY"
    },
    {
      "cell_type": "code",
      "execution_count": 2,
      "id": "78b10ad7",
      "metadata": {
        "id": "78b10ad7"
      },
      "outputs": [],
      "source": [
        "import sympy as sp              # IMPORTAMOS LAS LIBRERIAS DE SIMPY\n",
        "import numpy as np               # IMPORTAMOS LAS LIBRERIAS DE NUMOY\n",
        "import matplotlib.pyplot as plt"
      ]
    },
    {
      "cell_type": "code",
      "execution_count": 3,
      "id": "75d7d332",
      "metadata": {
        "id": "75d7d332"
      },
      "outputs": [],
      "source": [
        "x0=0                              # En este caso sera la serie de maclaurin\n",
        "n=7                               # Hasta la sexta potencia"
      ]
    },
    {
      "cell_type": "code",
      "execution_count": 16,
      "id": "26595981",
      "metadata": {
        "id": "26595981"
      },
      "outputs": [],
      "source": [
        "x=sp.Symbol('x')                 # Definimos como varable simbolica a x"
      ]
    },
    {
      "cell_type": "code",
      "execution_count": 5,
      "id": "beafac8b",
      "metadata": {
        "id": "beafac8b",
        "outputId": "8de7ca0a-bc5b-4a1f-b27d-9dfc93a40de7",
        "colab": {
          "base_uri": "https://localhost:8080/",
          "height": 38
        }
      },
      "outputs": [
        {
          "output_type": "execute_result",
          "data": {
            "text/plain": [
              "x**2"
            ],
            "text/latex": "$\\displaystyle x^{2}$"
          },
          "metadata": {},
          "execution_count": 5
        }
      ],
      "source": [
        "x**2                              # Hacemos x**2 y lo visuliza en latex"
      ]
    },
    {
      "cell_type": "code",
      "execution_count": 6,
      "id": "e78b5ce3",
      "metadata": {
        "id": "e78b5ce3",
        "outputId": "0cb69b79-f956-4140-e1ae-7e0158056ad7",
        "colab": {
          "base_uri": "https://localhost:8080/",
          "height": 38
        }
      },
      "outputs": [
        {
          "output_type": "execute_result",
          "data": {
            "text/plain": [
              "(5*x**2 - 1)*(x**2 - x + 1)"
            ],
            "text/latex": "$\\displaystyle \\left(5 x^{2} - 1\\right) \\left(x^{2} - x + 1\\right)$"
          },
          "metadata": {},
          "execution_count": 6
        }
      ],
      "source": [
        "(x**2 -x+1)*(5*x**2-1)            # Creamos una expresión y tambien lo visualiza en latex"
      ]
    },
    {
      "cell_type": "code",
      "execution_count": 7,
      "id": "675080af",
      "metadata": {
        "id": "675080af",
        "outputId": "e6f65d3e-6c3a-4af1-da2d-bf6b6b025272",
        "colab": {
          "base_uri": "https://localhost:8080/",
          "height": 38
        }
      },
      "outputs": [
        {
          "output_type": "execute_result",
          "data": {
            "text/plain": [
              "5*x**4 - 5*x**3 + 4*x**2 + x - 1"
            ],
            "text/latex": "$\\displaystyle 5 x^{4} - 5 x^{3} + 4 x^{2} + x - 1$"
          },
          "metadata": {},
          "execution_count": 7
        }
      ],
      "source": [
        "sp.expand((x**2 -x+1)*(5*x**2-1))   # La función expand() realiza las operaciones que se indican en parentesis"
      ]
    },
    {
      "cell_type": "code",
      "execution_count": 8,
      "id": "1ff51a2c",
      "metadata": {
        "id": "1ff51a2c"
      },
      "outputs": [],
      "source": [
        "expresion=-12*(x-1)**2+4*(x-1)**3+(x-1)**4    # Expresión guarda el polinomio eindicado"
      ]
    },
    {
      "cell_type": "code",
      "execution_count": 9,
      "id": "dd9bd173",
      "metadata": {
        "id": "dd9bd173",
        "outputId": "74ad7029-ed49-4a91-d73b-03529d6f0b39",
        "colab": {
          "base_uri": "https://localhost:8080/",
          "height": 39
        }
      },
      "outputs": [
        {
          "output_type": "execute_result",
          "data": {
            "text/plain": [
              "(x - 1)**4 + 4*(x - 1)**3 - 12*(x - 1)**2"
            ],
            "text/latex": "$\\displaystyle \\left(x - 1\\right)^{4} + 4 \\left(x - 1\\right)^{3} - 12 \\left(x - 1\\right)^{2}$"
          },
          "metadata": {},
          "execution_count": 9
        }
      ],
      "source": [
        "expresion                                   #  Visulaiza el polinomio"
      ]
    },
    {
      "cell_type": "code",
      "execution_count": 10,
      "id": "9ed3dce9",
      "metadata": {
        "id": "9ed3dce9",
        "outputId": "7f73efb3-b673-46a2-b111-f49ef6704692",
        "colab": {
          "base_uri": "https://localhost:8080/",
          "height": 39
        }
      },
      "outputs": [
        {
          "output_type": "execute_result",
          "data": {
            "text/plain": [
              "(x - 3)*(x - 1)**2*(x + 5)"
            ],
            "text/latex": "$\\displaystyle \\left(x - 3\\right) \\left(x - 1\\right)^{2} \\left(x + 5\\right)$"
          },
          "metadata": {},
          "execution_count": 10
        }
      ],
      "source": [
        "sp.factor(expresion)                        # la fución sp.factor() factoriza lo que esta en  parentesis"
      ]
    },
    {
      "cell_type": "code",
      "execution_count": 19,
      "id": "348e2103",
      "metadata": {
        "id": "348e2103",
        "outputId": "894b5fe3-aef2-4530-8d21-eeb1bcbcfc29",
        "colab": {
          "base_uri": "https://localhost:8080/"
        }
      },
      "outputs": [
        {
          "output_type": "stream",
          "name": "stdout",
          "text": [
            "-x**6/720 + x**4/24 - x**2/2 + 1\n"
          ]
        }
      ],
      "source": [
        "t=sp.cos(x).series(x,x0,n).removeO()        # En t guardamos la serie de Taylor primero le indicamos conrrespecto a que función luego\n",
        "print(t)                                     # parametros como la variable simbolica , x0 y la potencia"
      ]
    },
    {
      "cell_type": "code",
      "execution_count": 20,
      "id": "e45ce177",
      "metadata": {
        "id": "e45ce177",
        "outputId": "7911d02a-0f91-4aa0-85ba-a0fbf4c3e1a7",
        "colab": {
          "base_uri": "https://localhost:8080/",
          "height": 54
        }
      },
      "outputs": [
        {
          "output_type": "execute_result",
          "data": {
            "text/plain": [
              "-x**6/720 + x**4/24 - x**2/2 + 1"
            ],
            "text/latex": "$\\displaystyle - \\frac{x^{6}}{720} + \\frac{x^{4}}{24} - \\frac{x^{2}}{2} + 1$"
          },
          "metadata": {},
          "execution_count": 20
        }
      ],
      "source": [
        "t                                  # Visuliza t"
      ]
    },
    {
      "cell_type": "code",
      "execution_count": 13,
      "id": "715d9e4c",
      "metadata": {
        "id": "715d9e4c"
      },
      "outputs": [],
      "source": [
        "t=sp.lambdify(x,t,'numpy')"
      ]
    },
    {
      "cell_type": "code",
      "execution_count": 14,
      "id": "fbe77aaa",
      "metadata": {
        "id": "fbe77aaa"
      },
      "outputs": [],
      "source": [
        "xx=np.linspace(x0-5,x0+5,1000)    # Definimos los rangos en el eje x y su aumento\n",
        "yc=np.cos(xx)                     # Guardamos en yc la función cos(x)\n",
        "yt=t(xx)                          #"
      ]
    },
    {
      "cell_type": "code",
      "execution_count": 15,
      "id": "6d6d8097",
      "metadata": {
        "id": "6d6d8097",
        "outputId": "aa4398b6-b1b2-4390-e418-1711648f9e5c",
        "colab": {
          "base_uri": "https://localhost:8080/",
          "height": 454
        }
      },
      "outputs": [
        {
          "output_type": "display_data",
          "data": {
            "text/plain": [
              "<Figure size 640x480 with 1 Axes>"
            ],
            "image/png": "[encoded data removed]"
          },
          "metadata": {}
        }
      ],
      "source": [
        "plt.plot(xx,yc,xx,yt)\n",
        "plt.legend(['cos(x)','Serie de Taylor orden 6'])\n",
        "plt.title('Serie de Taylor de $f(x)=cos(x)$')\n",
        "plt.grid(True)\n",
        "\n",
        "#g.savefig('seriet.pdf', bbox_inches='tight')"
      ]
    },
    {
      "cell_type": "code",
      "execution_count": null,
      "id": "38258aad",
      "metadata": {
        "id": "38258aad"
      },
      "outputs": [],
      "source": []
    }
  ],
  "metadata": {
    "kernelspec": {
      "display_name": "Python 3 (ipykernel)",
      "language": "python",
      "name": "python3"
    },
    "language_info": {
      "codemirror_mode": {
        "name": "ipython",
        "version": 3
      },
      "file_extension": ".py",
      "mimetype": "text/x-python",
      "name": "python",
      "nbconvert_exporter": "python",
      "pygments_lexer": "ipython3",
      "version": "3.7.3"
    },
    "colab": {
      "provenance": []
    }
  },
  "nbformat": 4,
  "nbformat_minor": 5
}