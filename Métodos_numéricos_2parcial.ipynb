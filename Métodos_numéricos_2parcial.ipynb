{
  "nbformat": 4,
  "nbformat_minor": 0,
  "metadata": {
    "colab": {
      "provenance": [],
      "authorship_tag": "ABX9TyMYm6MAp3IWCquH86bWTEmm",
      "include_colab_link": true
    },
    "kernelspec": {
      "name": "python3",
      "display_name": "Python 3"
    },
    "language_info": {
      "name": "python"
    }
  },
  "cells": [
    {
      "cell_type": "markdown",
      "metadata": {
        "id": "view-in-github",
        "colab_type": "text"
      },
      "source": [
        "<a href=\"https://colab.research.google.com/github/jlopez00001/M-todos-num-ricos/blob/main/M%C3%A9todos_num%C3%A9ricos_2parcial.ipynb\" target=\"_parent\"><img src=\"https://colab.research.google.com/assets/colab-badge.svg\" alt=\"Open In Colab\"/></a>"
      ]
    },
    {
      "cell_type": "markdown",
      "source": [
        " Algoritmo 3.1 (INTERPOLACIÓN ITERADA DE NEVILLE)"
      ],
      "metadata": {
        "id": "Goljd_X4wFxQ"
      }
    },
    {
      "cell_type": "code",
      "source": [
        "from tabulate import tabulate    # está libreria es para tabular\n",
        "\n",
        "def neville(x_puntos, y_puntos, x): # la esta función toma como parametros los puntos y el valor a aproximar\n",
        "\n",
        "    n = len(x_puntos)                    # n guarda el tamaño de la lista , que sera el grado del polinomio\n",
        "    Q = [[0.0 for _ in range(n)] for _ in range(n)]   # definimo la matriz Q llenadolo con ceros\n",
        "\n",
        "    for i in range(n):\n",
        "        Q[i][0] = y_puntos[i]    # rrecorremos cada punto de interpolación\n",
        "        for j in range(1, i + 1): # es te for recorre los segundos indices para en la formula de neville\n",
        "             Q[i][j] = ((x - x_puntos[i - j]) * Q[i][j - 1] -\n",
        "                       (x - x_puntos[i]) * Q[i - 1][j - 1]) / \\\n",
        "                      (x_puntos[i] - x_puntos[i - j])\n",
        "\n",
        "\n",
        "\n",
        "    # Preparar tabla para impresión\n",
        "    cabeseras = [f\"Q(i,{j})\" for j in range(n)]  # etiquetamos las columnas\n",
        "    tabla = []                                  # definimos una lista llamda tabla\n",
        "    for i in range(n):                          # recorremos cada primer indice\n",
        "        fila = []                                # definimos una lista llamada fila\n",
        "        for j in range(n):                      # segundo indice de la matriz\n",
        "            if j <= i:                          # pregunta si el segundo indice es mayor o igual al primero\n",
        "                fila.append(f\"{Q[i][j]:.6f}\")    # si es asi agregamos a la fila\n",
        "            else:                                 # si no agrega nada\n",
        "                fila.append(\"\")\n",
        "        tabla.append(fila)                       # agremos a nuestra tabla la fila correspondiente\n",
        "\n",
        "    print(\"\\nTabla de Neville:\")                  # letrero\n",
        "    print(tabulate(tabla, headers=cabeseras, showindex=[f\"x = {x_puntos[i]}\" for i in range(n)], tablefmt=\"grid\")) # mostrar resultados\n",
        "\n",
        "    print(f\"\\nAproximación de f({x}) = {Q[n - 1][n - 1]:.10f}\") # mostramos el resultado de la aproximación de f en x\n",
        "    return Q[n - 1][n - 1]\n",
        "\n",
        "\n",
        "\n",
        "x_vals = [1.0, 1.3, 1.6, 1.9, 2.2]                             # componenetes en x\n",
        "y_vals = [0.7651977, 0.620086, 0.455402, 0.281818, 0.110362]   # componeentes en y\n",
        "x_interp = 1.5                                                  # valor a interpolar\n",
        "\n",
        "resultado = neville(x_vals, y_vals, x_interp)       # llamamos a la función\n",
        "\n",
        "\n",
        "\n",
        "\n",
        "\n"
      ],
      "metadata": {
        "colab": {
          "base_uri": "https://localhost:8080/"
        },
        "id": "1G63NCwtwKBo",
        "outputId": "9284bd65-ee55-4d2c-cbc0-c1963934e74f"
      },
      "execution_count": null,
      "outputs": [
        {
          "output_type": "stream",
          "name": "stdout",
          "text": [
            "\n",
            "Tabla de Neville:\n",
            "+---------+----------+----------+----------+----------+----------+\n",
            "|         |   Q(i,0) | Q(i,1)   | Q(i,2)   | Q(i,3)   | Q(i,4)   |\n",
            "+=========+==========+==========+==========+==========+==========+\n",
            "| x = 1.0 | 0.765198 |          |          |          |          |\n",
            "+---------+----------+----------+----------+----------+----------+\n",
            "| x = 1.3 | 0.620086 | 0.523345 |          |          |          |\n",
            "+---------+----------+----------+----------+----------+----------+\n",
            "| x = 1.6 | 0.455402 | 0.510297 | 0.512471 |          |          |\n",
            "+---------+----------+----------+----------+----------+----------+\n",
            "| x = 1.9 | 0.281818 | 0.513263 | 0.511286 | 0.511813 |          |\n",
            "+---------+----------+----------+----------+----------+----------+\n",
            "| x = 2.2 | 0.110362 | 0.510426 | 0.513736 | 0.511830 | 0.511820 |\n",
            "+---------+----------+----------+----------+----------+----------+\n",
            "\n",
            "Aproximación de f(1.5) = 0.5118199016\n"
          ]
        }
      ]
    },
    {
      "cell_type": "markdown",
      "source": [
        " Algoritmo 3.2 (DIFERENCIAS DIVIDIDAS DE NEWTON)"
      ],
      "metadata": {
        "id": "9_8H15e97R_q"
      }
    },
    {
      "cell_type": "code",
      "source": [
        "from tabulate import tabulate         # es para la tabla\n",
        "\n",
        "def diferencias_divididas_newton(x_puntos, y_puntos):  # función principal recibe como parametros dos listas de valores\n",
        "\n",
        "    n = len(x_puntos)                       # obtenemos el grado del polinomio\n",
        "    F = [[0.0 for _ in range(n)] for _ in range(n)]    # definimos una matriz\n",
        "\n",
        "\n",
        "    for i in range(n):                  # llenamos la primera columna de la matriz que corresponde a los valors de y\n",
        "        F[i][0] = y_puntos[i]\n",
        "\n",
        "\n",
        "    for j in range(1, n):                  # Llenar la tabla triangular, recoremos los cada uno de los primeros indices\n",
        "        for i in range(j, n):              # recorremos los segundos indices\n",
        "            F[i][j] = (F[i][j - 1] - F[i - 1][j - 1]) / (x_puntos[i] - x_puntos[i - j])     # formula de difrencias divididas\n",
        "\n",
        "\n",
        "    coeficientes = [F[i][i] for i in range(n)]   # Extraemos los coeficientes del polinomio (diagonal superior)\n",
        "\n",
        "    # Preparar tabla para imprimir\n",
        "    encabesados = [f\"f[x0,{','.join(['x'+str(k) for k in range(j+1)])}]\" for j in range(n)]\n",
        "    tabla = []                           # definimos la tabla como una lista\n",
        "    for i in range(n):\n",
        "        fila = []                        # definimos la una lista llamda fila\n",
        "        for j in range(n):\n",
        "            if j <= i:                   # pregunta si el segundo indice es mayor que el primero\n",
        "                fila.append(f\"{F[i][j]:.6f}\") # en ese caso a grega a la fila\n",
        "            else:\n",
        "                fila.append(\"\")       # en caso contrario lo deja vacio\n",
        "        tabla.append(fila)              # agregamos a la tabla las filas correspondientes\n",
        "\n",
        "    print(\"\\nTabla de Diferencias Divididas de Newton:\")\n",
        "    print(tabulate(tabla, headers=encabesados, showindex=[f\"x = {x_puntos[i]}\" for i in range(n)], tablefmt=\"grid\"))\n",
        "\n",
        "    return coeficientes       # devuelve los coeficentes del polinomio\n",
        "\n",
        "x_vals = [1.0, 1.3, 1.6, 1.9, 2.2]            # datos de prueba\n",
        "y_vals = [0.7651977, 0.620086, 0.455402, 0.281818, 0.110362]\n",
        "\n",
        "coef = diferencias_divididas_newton(x_vals, y_vals) # llamos a la función\n",
        "\n",
        "\n"
      ],
      "metadata": {
        "colab": {
          "base_uri": "https://localhost:8080/"
        },
        "id": "Byt7HainzV3h",
        "outputId": "d71bc931-fbbd-4cb5-f619-2ebb1a7c3bae"
      },
      "execution_count": null,
      "outputs": [
        {
          "output_type": "stream",
          "name": "stdout",
          "text": [
            "\n",
            "Tabla de Diferencias Divididas de Newton:\n",
            "+---------+------------+---------------+------------------+---------------------+------------------------+\n",
            "|         |   f[x0,x0] | f[x0,x0,x1]   | f[x0,x0,x1,x2]   | f[x0,x0,x1,x2,x3]   | f[x0,x0,x1,x2,x3,x4]   |\n",
            "+=========+============+===============+==================+=====================+========================+\n",
            "| x = 1.0 |   0.765198 |               |                  |                     |                        |\n",
            "+---------+------------+---------------+------------------+---------------------+------------------------+\n",
            "| x = 1.3 |   0.620086 | -0.483706     |                  |                     |                        |\n",
            "+---------+------------+---------------+------------------+---------------------+------------------------+\n",
            "| x = 1.6 |   0.455402 | -0.548947     | -0.108735        |                     |                        |\n",
            "+---------+------------+---------------+------------------+---------------------+------------------------+\n",
            "| x = 1.9 |   0.281818 | -0.578613     | -0.049444        | 0.065878            |                        |\n",
            "+---------+------------+---------------+------------------+---------------------+------------------------+\n",
            "| x = 2.2 |   0.110362 | -0.571520     | 0.011822         | 0.068074            | 0.001830               |\n",
            "+---------+------------+---------------+------------------+---------------------+------------------------+\n"
          ]
        }
      ]
    },
    {
      "cell_type": "markdown",
      "source": [
        "Algoritmo 3.3 ( Interpolación de Hermite)"
      ],
      "metadata": {
        "id": "Ufd-tieozcWR"
      }
    },
    {
      "cell_type": "code",
      "source": [
        "import numpy as np\n",
        "import pandas as pd\n",
        "from sympy import symbols, simplify\n",
        "\n",
        "def interpolacion_hermite(x_puntos, f, df): # función principal que toma como hargumentos tres listas de valores los puntos x0,x1,...xn , f(x0),f(x1),...f(xn) y las derivadas en esos puntos\n",
        "  n = len(x_puntos)                       # obtenemos el tamaño de del arreglo que guarda los puntos x0,,x1,..,xn\n",
        "  z = np.zeros(2 *n)                      # declasramos un arrelo deceros de tamño 2*n\n",
        "  Q = np.zeros((2 * n, 2 * n))            # declaramos una matriz llendolo conceros de tamaño 2*n x 2*n\n",
        "\n",
        "  for i in range(n):                      # llenamos la matriz con los datos correspondientes\n",
        "    z[2 * i] = x_puntos[i]\n",
        "    z[ 2* i + 1] = x_puntos[i]\n",
        "    Q[2*i][0] = f[i]\n",
        "    Q[ 2*i +1][0] =f[i]\n",
        "    Q[2*i +1][1] = df[i]\n",
        "\n",
        "    if i!= 0:                        # preguntamos si i es distinto de cero\n",
        "      Q[2*i][1] = (Q[2*i][0] - Q[2*i-1][0]) / (z[2*i] - z[2*i-1])  # en ese caso calcula Q[2*i,1]\n",
        "\n",
        "  for j in range (2,2*n):\n",
        "    for i in range(j,2*n):\n",
        "      Q[i][j] = (Q[i][j-1] - Q[i-1][j-1]) / (z[i] - z[i-j])\n",
        "\n",
        "\n",
        "\n",
        "  # crear tabla\n",
        "  columnas = [f\"Q_{i}\" for i in range(2*n)]\n",
        "  def_Q = pd.DataFrame(Q, columns=columnas)\n",
        "  def_Q.insert(0, \"z\", z)\n",
        "\n",
        "  # obtengamos el polinomio este se construye con los elementos de la diagonal de la matriz\n",
        "  coeficientes = []\n",
        "  for i in range(2*n):\n",
        "    coeficientes.append(Q[i][i])\n",
        "  coeficientes.reverse()\n",
        "  x = symbols('x')\n",
        "  grado = len(coeficientes) -1\n",
        "  polinomio = sum(coef * x**(grado - i) for i, coef in enumerate(coeficientes))\n",
        "  print(simplify(polinomio))\n",
        "  return def_Q\n",
        "\n",
        "# datos de ejemplo\n",
        "x_puntos = [1.3,1.6,1.9]\n",
        "f = [0.620086, 0.4554022, 0.2818186]\n",
        "df = [-0.5220232, -0.56989559, -0.5811571]\n",
        "\n",
        "tabla = interpolacion_hermite(x_puntos, f, df)\n",
        "print(tabla.round(6))\n"
      ],
      "metadata": {
        "colab": {
          "base_uri": "https://localhost:8080/"
        },
        "id": "QAgZ-TVXz2Qp",
        "outputId": "0a6a29f8-c58f-4cd4-d581-64215a6472d9"
      },
      "execution_count": null,
      "outputs": [
        {
          "output_type": "stream",
          "name": "stdout",
          "text": [
            "-0.00273641975305078*x**5 + 0.00265518518518057*x**4 + 0.0663690000000006*x**3 - 0.0897426666666667*x**2 - 0.5220232*x + 0.620086\n",
            "     z       Q_0       Q_1       Q_2       Q_3       Q_4       Q_5\n",
            "0  1.3  0.620086  0.000000  0.000000  0.000000  0.000000  0.000000\n",
            "1  1.3  0.620086 -0.522023  0.000000  0.000000  0.000000  0.000000\n",
            "2  1.6  0.455402 -0.548946 -0.089743  0.000000  0.000000  0.000000\n",
            "3  1.6  0.455402 -0.569896 -0.069832  0.066369  0.000000  0.000000\n",
            "4  1.9  0.281819 -0.578612 -0.029055  0.067962  0.002655  0.000000\n",
            "5  1.9  0.281819 -0.581157 -0.008484  0.068570  0.001013 -0.002736\n"
          ]
        }
      ]
    },
    {
      "cell_type": "markdown",
      "source": [
        "Interpolación de newton y polinomio de Lagrange"
      ],
      "metadata": {
        "id": "cZaqTrO-1H3Y"
      }
    },
    {
      "cell_type": "code",
      "source": [
        "import sympy as sp\n",
        "import matplotlib.pyplot as plt\n",
        "import numpy as np\n",
        "\n",
        "# 1. Definir la variable simbólica\n",
        "x = sp.Symbol('x')\n",
        "\n",
        "# 2. Definir la función simbólica\n",
        "f = (1 + 25 * x**2)**-1\n",
        "print(\"Función original:\")\n",
        "print(f)\n",
        "\n",
        "# 3. Convertir la función simbólica en función numérica\n",
        "f_num = sp.lambdify(x, f, modules=['numpy'])\n",
        "\n",
        "# 4. Crear nodos y valores\n",
        "nodos_x = np.linspace(-1, 1, 9)\n",
        "nodos_y = f_num(nodos_x)\n",
        "\n",
        "# =====================\n",
        "# 5. Interpolación de Lagrange\n",
        "# =====================\n",
        "lagrange_poly = 0\n",
        "n = len(nodos_x)\n",
        "\n",
        "for i in range(n):\n",
        "    xi, yi = nodos_x[i], nodos_y[i]\n",
        "    Li = 1\n",
        "    for j in range(n):\n",
        "        if j != i:\n",
        "            Li *= (x - nodos_x[j]) / (xi - nodos_x[j])\n",
        "    lagrange_poly += yi * Li\n",
        "\n",
        "lagrange_poly = sp.simplify(sp.expand(lagrange_poly))\n",
        "print(\"\\nPolinomio de Lagrange:\")\n",
        "sp.pprint(lagrange_poly)\n",
        "\n",
        "# =====================\n",
        "# 6. Interpolación de Newton (diferencias divididas)\n",
        "# =====================\n",
        "\n",
        "def diferencias_divididas(x_vals, y_vals):\n",
        "    n = len(x_vals)\n",
        "    coef = list(y_vals.copy())\n",
        "    for j in range(1, n):\n",
        "        for i in range(n - 1, j - 1, -1):\n",
        "            coef[i] = (coef[i] - coef[i - 1]) / (x_vals[i] - x_vals[i - j])\n",
        "    return coef\n",
        "\n",
        "# Obtener coeficientes\n",
        "coeficientes = diferencias_divididas(nodos_x, nodos_y)\n",
        "\n",
        "# Construir el polinomio de Newton\n",
        "newton_poly = 0\n",
        "for i in range(n):\n",
        "    term = coeficientes[i]\n",
        "    for j in range(i):\n",
        "        term *= (x - nodos_x[j])\n",
        "    newton_poly += term\n",
        "\n",
        "newton_poly = sp.simplify(sp.expand(newton_poly))\n",
        "print(\"\\nPolinomio de Newton (diferencias divididas):\")\n",
        "sp.pprint(newton_poly)\n",
        "\n",
        "# =====================\n",
        "# 7. Funciones numéricas y evaluación\n",
        "# =====================\n",
        "x_vals = np.linspace(-1, 1, 400)\n",
        "y_vals = f_num(x_vals)\n",
        "\n",
        "lagrange_num = sp.lambdify(x, lagrange_poly, modules=['numpy'])\n",
        "newton_num = sp.lambdify(x, newton_poly, modules=['numpy'])\n",
        "\n",
        "y_lagrange = lagrange_num(x_vals)\n",
        "y_newton = newton_num(x_vals)\n",
        "\n",
        "# =====================\n",
        "# 8. Graficar todo\n",
        "# =====================\n",
        "plt.plot(x_vals, y_vals, label='f(x) = 1 / (1 + 25x²)', color='blue')\n",
        "plt.plot(x_vals, y_lagrange, label='Lagrange', color='green', linestyle='--')\n",
        "plt.plot(x_vals, y_newton, label='Newton', color='orange', linestyle='-.')\n",
        "plt.scatter(nodos_x, nodos_y, color='red', label='Nodos', zorder=5)\n",
        "\n",
        "plt.xlabel('x')\n",
        "plt.ylabel('f(x)')\n",
        "plt.title('Interpolación de Lagrange y Newton')\n",
        "plt.grid(True)\n",
        "plt.legend()\n",
        "plt.show()"
      ],
      "metadata": {
        "colab": {
          "base_uri": "https://localhost:8080/"
        },
        "id": "jFcfSv1_1oV3",
        "outputId": "da44f034-d2a2-4a1f-b22a-68180a8b5a91"
      },
      "execution_count": null,
      "outputs": [
        {
          "output_type": "stream",
          "name": "stdout",
          "text": [
            "Función original:\n",
            "1/(25*x**2 + 1)\n",
            "\n",
            "Polinomio de Lagrange:\n",
            "                  8                     6                     4                ↪\n",
            "53.6893005545836⋅x  - 102.815010562028⋅x  + 61.3672060920175⋅x  - 1.7763568394 ↪\n",
            "\n",
            "↪           3                    2      \n",
            "↪ 0025e-15⋅x  - 13.203034546112⋅x  + 1.0\n",
            "\n",
            "Polinomio de Newton (diferencias divididas):\n",
            "                  8                        7                     6             ↪\n",
            "53.6893005545836⋅x  + 1.4210854715202e-14⋅x  - 102.815010562028⋅x  + 1.4210854 ↪\n",
            "\n",
            "↪             5                     4                         3                ↪\n",
            "↪ 715202e-14⋅x  + 61.3672060920175⋅x  - 1.77635683940025e-15⋅x  - 13.203034546 ↪\n",
            "\n",
            "↪      2                               \n",
            "↪ 112⋅x  - 5.55111512312578e-17⋅x + 1.0\n"
          ]
        },
        {
          "output_type": "display_data",
          "data": {
            "text/plain": [
              "<Figure size 640x480 with 1 Axes>"
            ],
            "image/png": "[encoded data removed]"
          },
          "metadata": {}
        }
      ]
    },
    {
      "cell_type": "markdown",
      "source": [],
      "metadata": {
        "id": "tgExvOviYEL-"
      }
    }
  ]
}