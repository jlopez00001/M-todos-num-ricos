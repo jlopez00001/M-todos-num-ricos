{
  "nbformat": 4,
  "nbformat_minor": 0,
  "metadata": {
    "colab": {
      "provenance": [],
      "authorship_tag": "ABX9TyOn8h9ec3/h3lcfIPcy2r6S",
      "include_colab_link": true
    },
    "kernelspec": {
      "name": "python3",
      "display_name": "Python 3"
    },
    "language_info": {
      "name": "python"
    }
  },
  "cells": [
    {
      "cell_type": "markdown",
      "metadata": {
        "id": "view-in-github",
        "colab_type": "text"
      },
      "source": [
        "<a href=\"https://colab.research.google.com/github/jlopez00001/M-todos-num-ricos/blob/main/M%C3%A9todos_num%C3%A9ricos_2parcial.ipynb\" target=\"_parent\"><img src=\"https://colab.research.google.com/assets/colab-badge.svg\" alt=\"Open In Colab\"/></a>"
      ]
    },
    {
      "cell_type": "markdown",
      "source": [
        " Algoritmo 3.1 (INTERPOLACIÓN ITERADA DE NEVILLE)"
      ],
      "metadata": {
        "id": "Goljd_X4wFxQ"
      }
    },
    {
      "cell_type": "code",
      "source": [
        "from tabulate import tabulate    # está libreria es para tabular\n",
        "\n",
        "def neville(x_puntos, y_puntos, x): # la esta función toma como parametros los puntos y el valor a aproximar\n",
        "\n",
        "    n = len(x_puntos)                    # n guarda el tamaño de la lista , que sera el grado del polinomio\n",
        "    Q = [[0.0 for _ in range(n)] for _ in range(n)]   # definimo la matriz Q llenadolo con ceros\n",
        "\n",
        "    for i in range(n):\n",
        "        Q[i][0] = y_puntos[i]    # rrecorremos cada punto de interpolación\n",
        "        for j in range(1, i + 1): # es te for recorre los segundos indices para en la formula de neville\n",
        "             Q[i][j] = ((x - x_puntos[i - j]) * Q[i][j - 1] -\n",
        "                       (x - x_puntos[i]) * Q[i - 1][j - 1]) / \\\n",
        "                      (x_puntos[i] - x_puntos[i - j])\n",
        "\n",
        "\n",
        "\n",
        "    # Preparar tabla para impresión\n",
        "    cabeseras = [f\"Q(i,{j})\" for j in range(n)]  # etiquetamos las columnas\n",
        "    tabla = []                                  # definimos una lista llamda tabla\n",
        "    for i in range(n):                          # recorremos cada primer indice\n",
        "        fila = []                                # definimos una lista llamada fila\n",
        "        for j in range(n):                      # segundo indice de la matriz\n",
        "            if j <= i:                          # pregunta si el segundo indice es mayor o igual al primero\n",
        "                fila.append(f\"{Q[i][j]:.6f}\")    # si es asi agregamos a la fila\n",
        "            else:                                 # si no agrega nada\n",
        "                fila.append(\"\")\n",
        "        tabla.append(fila)                       # agremos a nuestra tabla la fila correspondiente\n",
        "\n",
        "    print(\"\\nTabla de Neville:\")                  # letrero\n",
        "    print(tabulate(tabla, headers=cabeseras, showindex=[f\"x = {x_puntos[i]}\" for i in range(n)], tablefmt=\"grid\")) # mostrar resultados\n",
        "\n",
        "    print(f\"\\nAproximación de f({x}) = {Q[n - 1][n - 1]:.10f}\") # mostramos el resultado de la aproximación de f en x\n",
        "    return Q[n - 1][n - 1]\n",
        "\n",
        "\n",
        "\n",
        "x_vals = [1.0, 1.3, 1.6, 1.9, 2.2]                             # componenetes en x\n",
        "y_vals = [0.7651977, 0.620086, 0.455402, 0.281818, 0.110362]   # componeentes en y\n",
        "x_interp = 1.5                                                  # valor a interpolar\n",
        "\n",
        "resultado = neville(x_vals, y_vals, x_interp)       # llamamos a la función\n",
        "\n",
        "\n",
        "\n",
        "\n",
        "\n"
      ],
      "metadata": {
        "colab": {
          "base_uri": "https://localhost:8080/"
        },
        "id": "1G63NCwtwKBo",
        "outputId": "9284bd65-ee55-4d2c-cbc0-c1963934e74f"
      },
      "execution_count": 8,
      "outputs": [
        {
          "output_type": "stream",
          "name": "stdout",
          "text": [
            "\n",
            "Tabla de Neville:\n",
            "+---------+----------+----------+----------+----------+----------+\n",
            "|         |   Q(i,0) | Q(i,1)   | Q(i,2)   | Q(i,3)   | Q(i,4)   |\n",
            "+=========+==========+==========+==========+==========+==========+\n",
            "| x = 1.0 | 0.765198 |          |          |          |          |\n",
            "+---------+----------+----------+----------+----------+----------+\n",
            "| x = 1.3 | 0.620086 | 0.523345 |          |          |          |\n",
            "+---------+----------+----------+----------+----------+----------+\n",
            "| x = 1.6 | 0.455402 | 0.510297 | 0.512471 |          |          |\n",
            "+---------+----------+----------+----------+----------+----------+\n",
            "| x = 1.9 | 0.281818 | 0.513263 | 0.511286 | 0.511813 |          |\n",
            "+---------+----------+----------+----------+----------+----------+\n",
            "| x = 2.2 | 0.110362 | 0.510426 | 0.513736 | 0.511830 | 0.511820 |\n",
            "+---------+----------+----------+----------+----------+----------+\n",
            "\n",
            "Aproximación de f(1.5) = 0.5118199016\n"
          ]
        }
      ]
    },
    {
      "cell_type": "markdown",
      "source": [
        " Algoritmo 3.2 (DIFERENCIAS DIVIDIDAS DE NEWTON)"
      ],
      "metadata": {
        "id": "9_8H15e97R_q"
      }
    },
    {
      "cell_type": "code",
      "source": [
        "from tabulate import tabulate         # es para la tabla\n",
        "\n",
        "def diferencias_divididas_newton(x_puntos, y_puntos):  # función principal recibe como parametros dos listas de valores\n",
        "\n",
        "    n = len(x_puntos)                       # obtenemos el grado del polinomio\n",
        "    F = [[0.0 for _ in range(n)] for _ in range(n)]    # definimos una matriz\n",
        "\n",
        "\n",
        "    for i in range(n):                  # llenamos la primera columna de la matriz que corresponde a los valors de y\n",
        "        F[i][0] = y_puntos[i]\n",
        "\n",
        "\n",
        "    for j in range(1, n):                  # Llenar la tabla triangular, recoremos los cada uno de los primeros indices\n",
        "        for i in range(j, n):              # recorremos los segundos indices\n",
        "            F[i][j] = (F[i][j - 1] - F[i - 1][j - 1]) / (x_puntos[i] - x_puntos[i - j])     # formula de difrencias divididas\n",
        "\n",
        "\n",
        "    coeficientes = [F[i][i] for i in range(n)]   # Extraemos los coeficientes del polinomio (diagonal superior)\n",
        "\n",
        "    # Preparar tabla para imprimir\n",
        "    encabesados = [f\"f[x0,{','.join(['x'+str(k) for k in range(j+1)])}]\" for j in range(n)]\n",
        "    tabla = []                           # definimos la tabla como una lista\n",
        "    for i in range(n):\n",
        "        fila = []                        # definimos la una lista llamda fila\n",
        "        for j in range(n):\n",
        "            if j <= i:                   # pregunta si el segundo indice es mayor que el primero\n",
        "                fila.append(f\"{F[i][j]:.6f}\") # en ese caso a grega a la fila\n",
        "            else:\n",
        "                fila.append(\"\")       # en caso contrario lo deja vacio\n",
        "        tabla.append(fila)              # agregamos a la tabla las filas correspondientes\n",
        "\n",
        "    print(\"\\nTabla de Diferencias Divididas de Newton:\")\n",
        "    print(tabulate(tabla, headers=encabesados, showindex=[f\"x = {x_puntos[i]}\" for i in range(n)], tablefmt=\"grid\"))\n",
        "\n",
        "    return coeficientes       # devuelve los coeficentes del polinomio\n",
        "\n",
        "x_vals = [1.0, 1.3, 1.6, 1.9, 2.2]            # datos de prueba\n",
        "y_vals = [0.7651977, 0.620086, 0.455402, 0.281818, 0.110362]\n",
        "\n",
        "coef = diferencias_divididas_newton(x_vals, y_vals) # llamos a la función\n",
        "\n",
        "\n"
      ],
      "metadata": {
        "colab": {
          "base_uri": "https://localhost:8080/"
        },
        "id": "Byt7HainzV3h",
        "outputId": "d71bc931-fbbd-4cb5-f619-2ebb1a7c3bae"
      },
      "execution_count": 9,
      "outputs": [
        {
          "output_type": "stream",
          "name": "stdout",
          "text": [
            "\n",
            "Tabla de Diferencias Divididas de Newton:\n",
            "+---------+------------+---------------+------------------+---------------------+------------------------+\n",
            "|         |   f[x0,x0] | f[x0,x0,x1]   | f[x0,x0,x1,x2]   | f[x0,x0,x1,x2,x3]   | f[x0,x0,x1,x2,x3,x4]   |\n",
            "+=========+============+===============+==================+=====================+========================+\n",
            "| x = 1.0 |   0.765198 |               |                  |                     |                        |\n",
            "+---------+------------+---------------+------------------+---------------------+------------------------+\n",
            "| x = 1.3 |   0.620086 | -0.483706     |                  |                     |                        |\n",
            "+---------+------------+---------------+------------------+---------------------+------------------------+\n",
            "| x = 1.6 |   0.455402 | -0.548947     | -0.108735        |                     |                        |\n",
            "+---------+------------+---------------+------------------+---------------------+------------------------+\n",
            "| x = 1.9 |   0.281818 | -0.578613     | -0.049444        | 0.065878            |                        |\n",
            "+---------+------------+---------------+------------------+---------------------+------------------------+\n",
            "| x = 2.2 |   0.110362 | -0.571520     | 0.011822         | 0.068074            | 0.001830               |\n",
            "+---------+------------+---------------+------------------+---------------------+------------------------+\n"
          ]
        }
      ]
    }
  ]
}